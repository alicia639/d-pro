{
 "cells": [
  {
   "cell_type": "code",
   "execution_count": 1,
   "id": "e46196bd",
   "metadata": {
    "_kg_hide-output": true,
    "execution": {
     "iopub.execute_input": "2021-09-18T14:54:56.556167Z",
     "iopub.status.busy": "2021-09-18T14:54:56.555457Z",
     "iopub.status.idle": "2021-09-18T14:55:17.004447Z",
     "shell.execute_reply": "2021-09-18T14:55:17.005000Z",
     "shell.execute_reply.started": "2021-09-18T14:51:02.011385Z"
    },
    "papermill": {
     "duration": 20.477553,
     "end_time": "2021-09-18T14:55:17.005350",
     "exception": false,
     "start_time": "2021-09-18T14:54:56.527797",
     "status": "completed"
    },
    "tags": []
   },
   "outputs": [
    {
     "name": "stdout",
     "output_type": "stream",
     "text": [
      "Collecting git+https://github.com/qubvel/efficientnet\r\n",
      "  Cloning https://github.com/qubvel/efficientnet to /tmp/pip-req-build-bsk1jp4z\r\n",
      "  Running command git clone -q https://github.com/qubvel/efficientnet /tmp/pip-req-build-bsk1jp4z\r\n",
      "  Resolved https://github.com/qubvel/efficientnet to commit f7f3e736c113b872caf53dae9fbbda996a8eb87d\r\n",
      "Collecting keras_applications<=1.0.8,>=1.0.7\r\n",
      "  Downloading Keras_Applications-1.0.8-py3-none-any.whl (50 kB)\r\n",
      "\u001b[K     |████████████████████████████████| 50 kB 694 kB/s \r\n",
      "\u001b[?25hRequirement already satisfied: scikit-image in /opt/conda/lib/python3.7/site-packages (from efficientnet==1.1.1) (0.18.3)\r\n",
      "Requirement already satisfied: h5py in /opt/conda/lib/python3.7/site-packages (from keras_applications<=1.0.8,>=1.0.7->efficientnet==1.1.1) (2.10.0)\r\n",
      "Requirement already satisfied: numpy>=1.9.1 in /opt/conda/lib/python3.7/site-packages (from keras_applications<=1.0.8,>=1.0.7->efficientnet==1.1.1) (1.19.5)\r\n",
      "Requirement already satisfied: six in /opt/conda/lib/python3.7/site-packages (from h5py->keras_applications<=1.0.8,>=1.0.7->efficientnet==1.1.1) (1.15.0)\r\n",
      "Requirement already satisfied: matplotlib!=3.0.0,>=2.0.0 in /opt/conda/lib/python3.7/site-packages (from scikit-image->efficientnet==1.1.1) (3.4.3)\r\n",
      "Requirement already satisfied: pillow!=7.1.0,!=7.1.1,>=4.3.0 in /opt/conda/lib/python3.7/site-packages (from scikit-image->efficientnet==1.1.1) (8.3.1)\r\n",
      "Requirement already satisfied: scipy>=1.0.1 in /opt/conda/lib/python3.7/site-packages (from scikit-image->efficientnet==1.1.1) (1.7.1)\r\n",
      "Requirement already satisfied: imageio>=2.3.0 in /opt/conda/lib/python3.7/site-packages (from scikit-image->efficientnet==1.1.1) (2.9.0)\r\n",
      "Requirement already satisfied: PyWavelets>=1.1.1 in /opt/conda/lib/python3.7/site-packages (from scikit-image->efficientnet==1.1.1) (1.1.1)\r\n",
      "Requirement already satisfied: tifffile>=2019.7.26 in /opt/conda/lib/python3.7/site-packages (from scikit-image->efficientnet==1.1.1) (2021.8.30)\r\n",
      "Requirement already satisfied: networkx>=2.0 in /opt/conda/lib/python3.7/site-packages (from scikit-image->efficientnet==1.1.1) (2.5)\r\n",
      "Requirement already satisfied: kiwisolver>=1.0.1 in /opt/conda/lib/python3.7/site-packages (from matplotlib!=3.0.0,>=2.0.0->scikit-image->efficientnet==1.1.1) (1.3.1)\r\n",
      "Requirement already satisfied: python-dateutil>=2.7 in /opt/conda/lib/python3.7/site-packages (from matplotlib!=3.0.0,>=2.0.0->scikit-image->efficientnet==1.1.1) (2.8.0)\r\n",
      "Requirement already satisfied: pyparsing>=2.2.1 in /opt/conda/lib/python3.7/site-packages (from matplotlib!=3.0.0,>=2.0.0->scikit-image->efficientnet==1.1.1) (2.4.7)\r\n",
      "Requirement already satisfied: cycler>=0.10 in /opt/conda/lib/python3.7/site-packages (from matplotlib!=3.0.0,>=2.0.0->scikit-image->efficientnet==1.1.1) (0.10.0)\r\n",
      "Requirement already satisfied: decorator>=4.3.0 in /opt/conda/lib/python3.7/site-packages (from networkx>=2.0->scikit-image->efficientnet==1.1.1) (5.0.9)\r\n",
      "Building wheels for collected packages: efficientnet\r\n",
      "  Building wheel for efficientnet (setup.py) ... \u001b[?25l-\b \b\\\b \bdone\r\n",
      "\u001b[?25h  Created wheel for efficientnet: filename=efficientnet-1.1.1-py3-none-any.whl size=18447 sha256=39a36dd1bb26e7e962a6beeb7718457104a43141ae52fdbe3faae5224d2f6549\r\n",
      "  Stored in directory: /tmp/pip-ephem-wheel-cache-0s6vfl01/wheels/11/69/85/814d64d694c96db0eef17b718042d644a1e54f113920481920\r\n",
      "Successfully built efficientnet\r\n",
      "Installing collected packages: keras-applications, efficientnet\r\n",
      "Successfully installed efficientnet-1.1.1 keras-applications-1.0.8\r\n",
      "\u001b[33mWARNING: Running pip as the 'root' user can result in broken permissions and conflicting behaviour with the system package manager. It is recommended to use a virtual environment instead: https://pip.pypa.io/warnings/venv\u001b[0m\r\n",
      "Collecting git+https://github.com/qubvel/classification_models.git\r\n",
      "  Cloning https://github.com/qubvel/classification_models.git to /tmp/pip-req-build-e2eh1r8u\r\n",
      "  Running command git clone -q https://github.com/qubvel/classification_models.git /tmp/pip-req-build-e2eh1r8u\r\n",
      "  Resolved https://github.com/qubvel/classification_models.git to commit a0f006e05485a34ccf871c421279864b0ccd220b\r\n",
      "  Running command git submodule update --init --recursive -q\r\n",
      "Collecting of\r\n",
      "  Downloading of-1.0.1.tar.gz (77 kB)\r\n",
      "\u001b[K     |████████████████████████████████| 77 kB 834 kB/s \r\n",
      "\u001b[?25hCollecting the\r\n",
      "  Downloading the-0.1.5.tar.gz (10 kB)\r\n",
      "Collecting current\r\n",
      "  Downloading current-0.3.6-py2.py3-none-any.whl (3.1 kB)\r\n",
      "\u001b[31mERROR: Could not find a version that satisfies the requirement session (from versions: none)\u001b[0m\r\n",
      "\u001b[31mERROR: No matching distribution found for session\u001b[0m\r\n"
     ]
    }
   ],
   "source": [
    "!pip install -U git+https://github.com/qubvel/efficientnet\n",
    "!pip install git+https://github.com/qubvel/classification_models.git of the current session"
   ]
  },
  {
   "cell_type": "code",
   "execution_count": 2,
   "id": "4715f946",
   "metadata": {
    "execution": {
     "iopub.execute_input": "2021-09-18T14:55:17.058122Z",
     "iopub.status.busy": "2021-09-18T14:55:17.057445Z",
     "iopub.status.idle": "2021-09-18T14:55:24.034207Z",
     "shell.execute_reply": "2021-09-18T14:55:24.033643Z",
     "shell.execute_reply.started": "2021-09-18T14:51:18.805255Z"
    },
    "papermill": {
     "duration": 7.007023,
     "end_time": "2021-09-18T14:55:24.034373",
     "exception": false,
     "start_time": "2021-09-18T14:55:17.027350",
     "status": "completed"
    },
    "tags": []
   },
   "outputs": [
    {
     "name": "stderr",
     "output_type": "stream",
     "text": [
      "2021-09-18 14:55:17.665513: W tensorflow/stream_executor/platform/default/dso_loader.cc:60] Could not load dynamic library 'libcudart.so.11.0'; dlerror: libcudart.so.11.0: cannot open shared object file: No such file or directory; LD_LIBRARY_PATH: /opt/conda/lib\n",
      "2021-09-18 14:55:17.665626: I tensorflow/stream_executor/cuda/cudart_stub.cc:29] Ignore above cudart dlerror if you do not have a GPU set up on your machine.\n"
     ]
    },
    {
     "name": "stdout",
     "output_type": "stream",
     "text": [
      "/kaggle/input/teeth-dataset/teeth_dataset/teeth_dataset/test/no-caries/nc9.jpg\n",
      "/kaggle/input/teeth-dataset/teeth_dataset/teeth_dataset/test/no-caries/nc10.jpg\n",
      "/kaggle/input/teeth-dataset/teeth_dataset/teeth_dataset/test/no-caries/nc1.jpg\n",
      "/kaggle/input/teeth-dataset/teeth_dataset/teeth_dataset/test/no-caries/nc2.jpg\n",
      "/kaggle/input/teeth-dataset/teeth_dataset/teeth_dataset/test/caries/wc2.jpg\n",
      "/kaggle/input/teeth-dataset/teeth_dataset/teeth_dataset/test/caries/wc45.jpg\n",
      "/kaggle/input/teeth-dataset/teeth_dataset/teeth_dataset/test/caries/wc50.jpg\n",
      "/kaggle/input/teeth-dataset/teeth_dataset/teeth_dataset/test/caries/wc44.jpg\n",
      "/kaggle/input/teeth-dataset/teeth_dataset/teeth_dataset/test/caries/wc49.jpg\n",
      "/kaggle/input/teeth-dataset/teeth_dataset/teeth_dataset/test/caries/wc1.jpg\n",
      "/kaggle/input/teeth-dataset/teeth_dataset/teeth_dataset/test/caries/wc8.jpg\n",
      "/kaggle/input/teeth-dataset/teeth_dataset/teeth_dataset/test/caries/wc55.jpg\n",
      "/kaggle/input/teeth-dataset/teeth_dataset/teeth_dataset/test/caries/wc56.jpg\n",
      "/kaggle/input/teeth-dataset/teeth_dataset/teeth_dataset/test/caries/wc51.jpeg\n",
      "/kaggle/input/teeth-dataset/teeth_dataset/teeth_dataset/Trianing/caries/wc28.jpg\n",
      "/kaggle/input/teeth-dataset/teeth_dataset/teeth_dataset/Trianing/caries/wc38.jpg\n",
      "/kaggle/input/teeth-dataset/teeth_dataset/teeth_dataset/Trianing/caries/wc18.jpg\n",
      "/kaggle/input/teeth-dataset/teeth_dataset/teeth_dataset/Trianing/caries/wc48.jpg\n",
      "/kaggle/input/teeth-dataset/teeth_dataset/teeth_dataset/Trianing/caries/wc53.jpeg\n",
      "/kaggle/input/teeth-dataset/teeth_dataset/teeth_dataset/Trianing/caries/wc30.jpg\n",
      "/kaggle/input/teeth-dataset/teeth_dataset/teeth_dataset/Trianing/caries/wc42.jpg\n",
      "/kaggle/input/teeth-dataset/teeth_dataset/teeth_dataset/Trianing/caries/wc21.jpg\n",
      "/kaggle/input/teeth-dataset/teeth_dataset/teeth_dataset/Trianing/caries/wc15.jpg\n",
      "/kaggle/input/teeth-dataset/teeth_dataset/teeth_dataset/Trianing/caries/wc33.jpg\n",
      "/kaggle/input/teeth-dataset/teeth_dataset/teeth_dataset/Trianing/caries/wc32.jpg\n",
      "/kaggle/input/teeth-dataset/teeth_dataset/teeth_dataset/Trianing/caries/wc10.jpg\n",
      "/kaggle/input/teeth-dataset/teeth_dataset/teeth_dataset/Trianing/caries/wc36.jpg\n",
      "/kaggle/input/teeth-dataset/teeth_dataset/teeth_dataset/Trianing/caries/wc39.jpg\n",
      "/kaggle/input/teeth-dataset/teeth_dataset/teeth_dataset/Trianing/caries/wc9.jpg\n",
      "/kaggle/input/teeth-dataset/teeth_dataset/teeth_dataset/Trianing/caries/wc22.jpg\n",
      "/kaggle/input/teeth-dataset/teeth_dataset/teeth_dataset/Trianing/caries/wc41.jpg\n",
      "/kaggle/input/teeth-dataset/teeth_dataset/teeth_dataset/Trianing/caries/wc35.jpg\n",
      "/kaggle/input/teeth-dataset/teeth_dataset/teeth_dataset/Trianing/caries/wc26.jpg\n",
      "/kaggle/input/teeth-dataset/teeth_dataset/teeth_dataset/Trianing/caries/wc34.jpg\n",
      "/kaggle/input/teeth-dataset/teeth_dataset/teeth_dataset/Trianing/caries/wc43.jpg\n",
      "/kaggle/input/teeth-dataset/teeth_dataset/teeth_dataset/Trianing/caries/wc5.jpg\n",
      "/kaggle/input/teeth-dataset/teeth_dataset/teeth_dataset/Trianing/caries/wc37.jpg\n",
      "/kaggle/input/teeth-dataset/teeth_dataset/teeth_dataset/Trianing/caries/wc19.jpg\n",
      "/kaggle/input/teeth-dataset/teeth_dataset/teeth_dataset/Trianing/caries/wc16.jpg\n",
      "/kaggle/input/teeth-dataset/teeth_dataset/teeth_dataset/Trianing/caries/wc11.jpg\n",
      "/kaggle/input/teeth-dataset/teeth_dataset/teeth_dataset/Trianing/caries/wc52.jpeg\n",
      "/kaggle/input/teeth-dataset/teeth_dataset/teeth_dataset/Trianing/caries/wc47.jpg\n",
      "/kaggle/input/teeth-dataset/teeth_dataset/teeth_dataset/Trianing/caries/wc4.jpg\n",
      "/kaggle/input/teeth-dataset/teeth_dataset/teeth_dataset/Trianing/caries/wc24.jpg\n",
      "/kaggle/input/teeth-dataset/teeth_dataset/teeth_dataset/Trianing/caries/wc40.jpg\n",
      "/kaggle/input/teeth-dataset/teeth_dataset/teeth_dataset/Trianing/caries/wc23.jpg\n",
      "/kaggle/input/teeth-dataset/teeth_dataset/teeth_dataset/Trianing/caries/wc25.jpg\n",
      "/kaggle/input/teeth-dataset/teeth_dataset/teeth_dataset/Trianing/caries/wc3.jpg\n",
      "/kaggle/input/teeth-dataset/teeth_dataset/teeth_dataset/Trianing/caries/wc54.jpg\n",
      "/kaggle/input/teeth-dataset/teeth_dataset/teeth_dataset/Trianing/caries/wc14.jpg\n",
      "/kaggle/input/teeth-dataset/teeth_dataset/teeth_dataset/Trianing/caries/wc17.jpg\n",
      "/kaggle/input/teeth-dataset/teeth_dataset/teeth_dataset/Trianing/caries/wc7.jpg\n",
      "/kaggle/input/teeth-dataset/teeth_dataset/teeth_dataset/Trianing/caries/wc6.jpg\n",
      "/kaggle/input/teeth-dataset/teeth_dataset/teeth_dataset/Trianing/caries/wc31.jpg\n",
      "/kaggle/input/teeth-dataset/teeth_dataset/teeth_dataset/Trianing/caries/wc13.jpg\n",
      "/kaggle/input/teeth-dataset/teeth_dataset/teeth_dataset/Trianing/caries/wc29.jpg\n",
      "/kaggle/input/teeth-dataset/teeth_dataset/teeth_dataset/Trianing/caries/wc12.jpg\n",
      "/kaggle/input/teeth-dataset/teeth_dataset/teeth_dataset/Trianing/caries/wc27.jpg\n",
      "/kaggle/input/teeth-dataset/teeth_dataset/teeth_dataset/Trianing/caries/wc20.jpg\n",
      "/kaggle/input/teeth-dataset/teeth_dataset/teeth_dataset/Trianing/without_caries/nc22.jpg\n",
      "/kaggle/input/teeth-dataset/teeth_dataset/teeth_dataset/Trianing/without_caries/nc11.jpg\n",
      "/kaggle/input/teeth-dataset/teeth_dataset/teeth_dataset/Trianing/without_caries/nc21.jpg\n",
      "/kaggle/input/teeth-dataset/teeth_dataset/teeth_dataset/Trianing/without_caries/nc6.jpg\n",
      "/kaggle/input/teeth-dataset/teeth_dataset/teeth_dataset/Trianing/without_caries/nc8.jpg\n",
      "/kaggle/input/teeth-dataset/teeth_dataset/teeth_dataset/Trianing/without_caries/nc16.jpg\n",
      "/kaggle/input/teeth-dataset/teeth_dataset/teeth_dataset/Trianing/without_caries/nc13.jpg\n",
      "/kaggle/input/teeth-dataset/teeth_dataset/teeth_dataset/Trianing/without_caries/nc17.jpg\n",
      "/kaggle/input/teeth-dataset/teeth_dataset/teeth_dataset/Trianing/without_caries/nc7.jpg\n",
      "/kaggle/input/teeth-dataset/teeth_dataset/teeth_dataset/Trianing/without_caries/nc20.jpeg\n",
      "/kaggle/input/teeth-dataset/teeth_dataset/teeth_dataset/Trianing/without_caries/nc15.jpg\n",
      "/kaggle/input/teeth-dataset/teeth_dataset/teeth_dataset/Trianing/without_caries/nc19.jpg\n",
      "/kaggle/input/teeth-dataset/teeth_dataset/teeth_dataset/Trianing/without_caries/nc18.jpg\n",
      "/kaggle/input/teeth-dataset/teeth_dataset/teeth_dataset/Trianing/without_caries/nc12.jpg\n",
      "/kaggle/input/teeth-dataset/teeth_dataset/teeth_dataset/Trianing/without_caries/nc14.jpg\n"
     ]
    }
   ],
   "source": [
    "from __future__ import absolute_import, division, print_function, unicode_literals\n",
    "import numpy as np # linear algebra\n",
    "import pandas as pd # data processing, CSV file I/O (e.g. pd.read_csv)\n",
    "\n",
    "import tensorflow as tf\n",
    "from tensorflow.keras.models import Sequential\n",
    "from tensorflow.keras.models import model_from_json\n",
    "from tensorflow.keras.preprocessing.image import ImageDataGenerator\n",
    "from tensorflow.keras.callbacks import EarlyStopping, ModelCheckpoint\n",
    "import efficientnet.tfkeras as efn \n",
    "import tensorflow.keras.layers as L\n",
    "from tensorflow.keras.models import Model\n",
    "\n",
    "from sklearn.model_selection import train_test_split\n",
    "import matplotlib.pyplot as plt\n",
    "from tensorflow.keras.optimizers import Adadelta\n",
    "from sklearn.datasets import load_files\n",
    "from skmultilearn.model_selection import iterative_train_test_split\n",
    "\n",
    "import os\n",
    "for dirname, _, filenames in os.walk('/kaggle/input'):\n",
    "    for filename in filenames:\n",
    "        print(os.path.join(dirname, filename))"
   ]
  },
  {
   "cell_type": "code",
   "execution_count": 3,
   "id": "0e615d8e",
   "metadata": {
    "execution": {
     "iopub.execute_input": "2021-09-18T14:55:24.086457Z",
     "iopub.status.busy": "2021-09-18T14:55:24.085692Z",
     "iopub.status.idle": "2021-09-18T14:55:24.089089Z",
     "shell.execute_reply": "2021-09-18T14:55:24.088468Z",
     "shell.execute_reply.started": "2021-09-18T14:51:18.838774Z"
    },
    "papermill": {
     "duration": 0.03255,
     "end_time": "2021-09-18T14:55:24.089240",
     "exception": false,
     "start_time": "2021-09-18T14:55:24.056690",
     "status": "completed"
    },
    "tags": []
   },
   "outputs": [],
   "source": [
    "train_datagen = ImageDataGenerator(\n",
    "                    rescale=1./255,\n",
    "                    rotation_range=45,\n",
    "                    width_shift_range=.15,\n",
    "                    height_shift_range=.15,\n",
    "                    horizontal_flip=True,\n",
    "                    zoom_range=0.5\n",
    "                    )\n",
    "\n",
    "\n",
    "test_datagen = ImageDataGenerator(rescale = 1./255)"
   ]
  },
  {
   "cell_type": "code",
   "execution_count": 4,
   "id": "6cb0bfec",
   "metadata": {
    "execution": {
     "iopub.execute_input": "2021-09-18T14:55:24.139361Z",
     "iopub.status.busy": "2021-09-18T14:55:24.138151Z",
     "iopub.status.idle": "2021-09-18T14:55:24.349580Z",
     "shell.execute_reply": "2021-09-18T14:55:24.348931Z",
     "shell.execute_reply.started": "2021-09-18T14:51:18.846398Z"
    },
    "papermill": {
     "duration": 0.239096,
     "end_time": "2021-09-18T14:55:24.349722",
     "exception": false,
     "start_time": "2021-09-18T14:55:24.110626",
     "status": "completed"
    },
    "tags": []
   },
   "outputs": [
    {
     "name": "stdout",
     "output_type": "stream",
     "text": [
      "Found 60 images belonging to 2 classes.\n",
      "Found 60 images belonging to 2 classes.\n"
     ]
    }
   ],
   "source": [
    "X_train = train_datagen.flow_from_directory('../input/teeth-dataset/teeth_dataset/teeth_dataset/Trianing',\n",
    "                                    target_size = (64, 64),\n",
    "                                                 batch_size = 32,\n",
    "                                                 class_mode = 'binary')\n",
    "\n",
    "X_test = test_datagen.flow_from_directory('../input/teeth-dataset/teeth_dataset/teeth_dataset/Trianing',\n",
    "                          target_size = (64, 64),\n",
    "                                                 batch_size = 32,\n",
    "                                                 class_mode = 'binary')\n"
   ]
  },
  {
   "cell_type": "code",
   "execution_count": 5,
   "id": "2763d867",
   "metadata": {
    "execution": {
     "iopub.execute_input": "2021-09-18T14:55:24.402390Z",
     "iopub.status.busy": "2021-09-18T14:55:24.401651Z",
     "iopub.status.idle": "2021-09-18T14:55:29.273145Z",
     "shell.execute_reply": "2021-09-18T14:55:29.272406Z",
     "shell.execute_reply.started": "2021-09-18T14:51:19.068564Z"
    },
    "papermill": {
     "duration": 4.901671,
     "end_time": "2021-09-18T14:55:29.273321",
     "exception": false,
     "start_time": "2021-09-18T14:55:24.371650",
     "status": "completed"
    },
    "tags": []
   },
   "outputs": [
    {
     "name": "stderr",
     "output_type": "stream",
     "text": [
      "2021-09-18 14:55:24.691387: I tensorflow/compiler/jit/xla_cpu_device.cc:41] Not creating XLA devices, tf_xla_enable_xla_devices not set\n",
      "2021-09-18 14:55:24.694749: W tensorflow/stream_executor/platform/default/dso_loader.cc:60] Could not load dynamic library 'libcuda.so.1'; dlerror: libcuda.so.1: cannot open shared object file: No such file or directory; LD_LIBRARY_PATH: /opt/conda/lib\n",
      "2021-09-18 14:55:24.694795: W tensorflow/stream_executor/cuda/cuda_driver.cc:326] failed call to cuInit: UNKNOWN ERROR (303)\n",
      "2021-09-18 14:55:24.694826: I tensorflow/stream_executor/cuda/cuda_diagnostics.cc:156] kernel driver does not appear to be running on this host (5bbe3e10ba83): /proc/driver/nvidia/version does not exist\n",
      "2021-09-18 14:55:24.695279: I tensorflow/core/platform/cpu_feature_guard.cc:142] This TensorFlow binary is optimized with oneAPI Deep Neural Network Library (oneDNN) to use the following CPU instructions in performance-critical operations:  AVX2 FMA\n",
      "To enable them in other operations, rebuild TensorFlow with the appropriate compiler flags.\n",
      "2021-09-18 14:55:24.695684: I tensorflow/compiler/jit/xla_gpu_device.cc:99] Not creating XLA devices, tf_xla_enable_xla_devices not set\n"
     ]
    },
    {
     "name": "stdout",
     "output_type": "stream",
     "text": [
      "Downloading data from https://github.com/Callidior/keras-applications/releases/download/efficientnet/efficientnet-b1_weights_tf_dim_ordering_tf_kernels_autoaugment_notop.h5\n",
      "27164672/27164032 [==============================] - 0s 0us/step\n"
     ]
    }
   ],
   "source": [
    "dim = 64, 64\n",
    "\n",
    "def teethModel(input_dim, base_model):\n",
    "    \n",
    "    input_tensor = L.Input(input_dim)\n",
    "    curr_output  = base_model(input_tensor)\n",
    "    curr_output  = L.GlobalAveragePooling2D()(curr_output)\n",
    "    oputput      = L.Dense(1,activation='sigmoid')(curr_output)\n",
    "    model = Model(input_tensor, oputput)\n",
    "    return model\n",
    "\n",
    "# base model\n",
    "efnet = efn.EfficientNetB1(weights='imagenet', include_top = False, \n",
    "                           input_shape=(*dim, 3))\n",
    "\n",
    "efnet.trainable = False\n",
    "\n",
    "\n",
    "# building the complete model\n",
    "model = teethModel(input_dim=(*dim,3), base_model = efnet)"
   ]
  },
  {
   "cell_type": "code",
   "execution_count": 6,
   "id": "27e65157",
   "metadata": {
    "execution": {
     "iopub.execute_input": "2021-09-18T14:55:29.332381Z",
     "iopub.status.busy": "2021-09-18T14:55:29.331720Z",
     "iopub.status.idle": "2021-09-18T14:55:29.335230Z",
     "shell.execute_reply": "2021-09-18T14:55:29.334708Z",
     "shell.execute_reply.started": "2021-09-18T14:51:22.608041Z"
    },
    "papermill": {
     "duration": 0.036329,
     "end_time": "2021-09-18T14:55:29.335390",
     "exception": false,
     "start_time": "2021-09-18T14:55:29.299061",
     "status": "completed"
    },
    "tags": []
   },
   "outputs": [],
   "source": [
    "es = EarlyStopping(monitor='val_loss', mode='min', verbose=1, patience=50)\n",
    "mc = ModelCheckpoint('best_model.h5', monitor='val_loss', mode='min', save_best_only=True)\n",
    "\n",
    "cd = [es, mc]"
   ]
  },
  {
   "cell_type": "code",
   "execution_count": 7,
   "id": "acfc2127",
   "metadata": {
    "execution": {
     "iopub.execute_input": "2021-09-18T14:55:29.404045Z",
     "iopub.status.busy": "2021-09-18T14:55:29.403326Z",
     "iopub.status.idle": "2021-09-18T14:55:29.411803Z",
     "shell.execute_reply": "2021-09-18T14:55:29.411196Z",
     "shell.execute_reply.started": "2021-09-18T14:51:22.614629Z"
    },
    "papermill": {
     "duration": 0.050984,
     "end_time": "2021-09-18T14:55:29.411985",
     "exception": false,
     "start_time": "2021-09-18T14:55:29.361001",
     "status": "completed"
    },
    "tags": []
   },
   "outputs": [],
   "source": [
    "model.compile(loss='binary_crossentropy',\n",
    "              optimizer='adam',\n",
    "              metrics=['accuracy'])"
   ]
  },
  {
   "cell_type": "code",
   "execution_count": 8,
   "id": "f95eeb80",
   "metadata": {
    "execution": {
     "iopub.execute_input": "2021-09-18T14:55:29.471235Z",
     "iopub.status.busy": "2021-09-18T14:55:29.470522Z",
     "iopub.status.idle": "2021-09-18T14:57:13.517434Z",
     "shell.execute_reply": "2021-09-18T14:57:13.517946Z",
     "shell.execute_reply.started": "2021-09-18T14:51:22.641507Z"
    },
    "papermill": {
     "duration": 104.078755,
     "end_time": "2021-09-18T14:57:13.518169",
     "exception": false,
     "start_time": "2021-09-18T14:55:29.439414",
     "status": "completed"
    },
    "tags": []
   },
   "outputs": [
    {
     "name": "stderr",
     "output_type": "stream",
     "text": [
      "/opt/conda/lib/python3.7/site-packages/tensorflow/python/keras/engine/training.py:1844: UserWarning: `Model.fit_generator` is deprecated and will be removed in a future version. Please use `Model.fit`, which supports generators.\n",
      "  warnings.warn('`Model.fit_generator` is deprecated and '\n",
      "2021-09-18 14:55:29.845016: I tensorflow/compiler/mlir/mlir_graph_optimization_pass.cc:116] None of the MLIR optimization passes are enabled (registered 2)\n",
      "2021-09-18 14:55:29.850729: I tensorflow/core/platform/profile_utils/cpu_utils.cc:112] CPU Frequency: 2199995000 Hz\n"
     ]
    },
    {
     "name": "stdout",
     "output_type": "stream",
     "text": [
      "Epoch 1/1000\n",
      "1/1 [==============================] - 12s 12s/step - loss: 0.7559 - accuracy: 0.3571 - val_loss: 0.5991 - val_accuracy: 0.7188\n",
      "Epoch 2/1000\n",
      "1/1 [==============================] - 1s 628ms/step - loss: 0.6643 - accuracy: 0.6562 - val_loss: 0.5907 - val_accuracy: 0.7188\n",
      "Epoch 3/1000\n",
      "1/1 [==============================] - 1s 612ms/step - loss: 0.6158 - accuracy: 0.7188 - val_loss: 0.5578 - val_accuracy: 0.7500\n",
      "Epoch 4/1000\n",
      "1/1 [==============================] - 1s 612ms/step - loss: 0.6574 - accuracy: 0.6250 - val_loss: 0.5175 - val_accuracy: 0.7812\n",
      "Epoch 5/1000\n",
      "1/1 [==============================] - 1s 594ms/step - loss: 0.5813 - accuracy: 0.7812 - val_loss: 0.5676 - val_accuracy: 0.6875\n",
      "Epoch 6/1000\n",
      "1/1 [==============================] - 1s 606ms/step - loss: 0.5458 - accuracy: 0.7812 - val_loss: 0.5429 - val_accuracy: 0.7188\n",
      "Epoch 7/1000\n",
      "1/1 [==============================] - 1s 625ms/step - loss: 0.4507 - accuracy: 0.8438 - val_loss: 0.4782 - val_accuracy: 0.7500\n",
      "Epoch 8/1000\n",
      "1/1 [==============================] - 1s 599ms/step - loss: 0.5003 - accuracy: 0.7857 - val_loss: 0.5480 - val_accuracy: 0.7188\n",
      "Epoch 9/1000\n",
      "1/1 [==============================] - 1s 595ms/step - loss: 0.4222 - accuracy: 0.8438 - val_loss: 0.6076 - val_accuracy: 0.6562\n",
      "Epoch 10/1000\n",
      "1/1 [==============================] - 1s 608ms/step - loss: 0.5049 - accuracy: 0.7500 - val_loss: 0.4330 - val_accuracy: 0.8125\n",
      "Epoch 11/1000\n",
      "1/1 [==============================] - 1s 639ms/step - loss: 0.4830 - accuracy: 0.7500 - val_loss: 0.5623 - val_accuracy: 0.6875\n",
      "Epoch 12/1000\n",
      "1/1 [==============================] - 1s 627ms/step - loss: 0.4873 - accuracy: 0.7812 - val_loss: 0.4993 - val_accuracy: 0.7500\n",
      "Epoch 13/1000\n",
      "1/1 [==============================] - 1s 647ms/step - loss: 0.4730 - accuracy: 0.7812 - val_loss: 0.4978 - val_accuracy: 0.7500\n",
      "Epoch 14/1000\n",
      "1/1 [==============================] - 1s 605ms/step - loss: 0.6085 - accuracy: 0.6786 - val_loss: 0.3618 - val_accuracy: 0.8438\n",
      "Epoch 15/1000\n",
      "1/1 [==============================] - 1s 602ms/step - loss: 0.5294 - accuracy: 0.7500 - val_loss: 0.4009 - val_accuracy: 0.7812\n",
      "Epoch 16/1000\n",
      "1/1 [==============================] - 1s 612ms/step - loss: 0.6158 - accuracy: 0.6875 - val_loss: 0.4307 - val_accuracy: 0.7500\n",
      "Epoch 17/1000\n",
      "1/1 [==============================] - 1s 578ms/step - loss: 0.4495 - accuracy: 0.7857 - val_loss: 0.5161 - val_accuracy: 0.6875\n",
      "Epoch 18/1000\n",
      "1/1 [==============================] - 1s 589ms/step - loss: 0.3617 - accuracy: 0.8571 - val_loss: 0.4299 - val_accuracy: 0.7500\n",
      "Epoch 19/1000\n",
      "1/1 [==============================] - 1s 583ms/step - loss: 0.4100 - accuracy: 0.7143 - val_loss: 0.4195 - val_accuracy: 0.7812\n",
      "Epoch 20/1000\n",
      "1/1 [==============================] - 1s 575ms/step - loss: 0.4098 - accuracy: 0.7857 - val_loss: 0.3906 - val_accuracy: 0.8125\n",
      "Epoch 21/1000\n",
      "1/1 [==============================] - 1s 592ms/step - loss: 0.3867 - accuracy: 0.8214 - val_loss: 0.4354 - val_accuracy: 0.7500\n",
      "Epoch 22/1000\n",
      "1/1 [==============================] - 1s 588ms/step - loss: 0.2891 - accuracy: 0.8929 - val_loss: 0.3702 - val_accuracy: 0.8750\n",
      "Epoch 23/1000\n",
      "1/1 [==============================] - 1s 613ms/step - loss: 0.4328 - accuracy: 0.7500 - val_loss: 0.4053 - val_accuracy: 0.8125\n",
      "Epoch 24/1000\n",
      "1/1 [==============================] - 1s 597ms/step - loss: 0.4053 - accuracy: 0.8125 - val_loss: 0.3960 - val_accuracy: 0.7500\n",
      "Epoch 25/1000\n",
      "1/1 [==============================] - 1s 571ms/step - loss: 0.3982 - accuracy: 0.8214 - val_loss: 0.3326 - val_accuracy: 0.9062\n",
      "Epoch 26/1000\n",
      "1/1 [==============================] - 1s 731ms/step - loss: 0.3994 - accuracy: 0.8750 - val_loss: 0.3589 - val_accuracy: 0.8750\n",
      "Epoch 27/1000\n",
      "1/1 [==============================] - 1s 663ms/step - loss: 0.4282 - accuracy: 0.7857 - val_loss: 0.3195 - val_accuracy: 0.9062\n",
      "Epoch 28/1000\n",
      "1/1 [==============================] - 1s 656ms/step - loss: 0.4230 - accuracy: 0.8571 - val_loss: 0.3613 - val_accuracy: 0.9062\n",
      "Epoch 29/1000\n",
      "1/1 [==============================] - 1s 630ms/step - loss: 0.3290 - accuracy: 0.8929 - val_loss: 0.3708 - val_accuracy: 0.8750\n",
      "Epoch 30/1000\n",
      "1/1 [==============================] - 1s 609ms/step - loss: 0.4133 - accuracy: 0.8214 - val_loss: 0.3203 - val_accuracy: 0.9688\n",
      "Epoch 31/1000\n",
      "1/1 [==============================] - 1s 587ms/step - loss: 0.3212 - accuracy: 0.8929 - val_loss: 0.3688 - val_accuracy: 0.9062\n",
      "Epoch 32/1000\n",
      "1/1 [==============================] - 1s 612ms/step - loss: 0.5147 - accuracy: 0.8438 - val_loss: 0.3543 - val_accuracy: 0.9375\n",
      "Epoch 33/1000\n",
      "1/1 [==============================] - 1s 574ms/step - loss: 0.3524 - accuracy: 0.8214 - val_loss: 0.3025 - val_accuracy: 0.9688\n",
      "Epoch 34/1000\n",
      "1/1 [==============================] - 1s 644ms/step - loss: 0.3875 - accuracy: 0.8214 - val_loss: 0.3389 - val_accuracy: 0.9062\n",
      "Epoch 35/1000\n",
      "1/1 [==============================] - 1s 726ms/step - loss: 0.3769 - accuracy: 0.8214 - val_loss: 0.3303 - val_accuracy: 1.0000\n",
      "Epoch 36/1000\n",
      "1/1 [==============================] - 1s 617ms/step - loss: 0.3722 - accuracy: 0.9062 - val_loss: 0.3511 - val_accuracy: 0.9688\n",
      "Epoch 37/1000\n",
      "1/1 [==============================] - 1s 645ms/step - loss: 0.4188 - accuracy: 0.8125 - val_loss: 0.3225 - val_accuracy: 0.9375\n",
      "Epoch 38/1000\n",
      "1/1 [==============================] - 1s 624ms/step - loss: 0.4452 - accuracy: 0.8438 - val_loss: 0.3395 - val_accuracy: 0.9688\n",
      "Epoch 39/1000\n",
      "1/1 [==============================] - 1s 595ms/step - loss: 0.4793 - accuracy: 0.7857 - val_loss: 0.3086 - val_accuracy: 0.9688\n",
      "Epoch 40/1000\n",
      "1/1 [==============================] - 1s 578ms/step - loss: 0.3877 - accuracy: 0.8929 - val_loss: 0.3351 - val_accuracy: 0.9062\n",
      "Epoch 41/1000\n",
      "1/1 [==============================] - 1s 594ms/step - loss: 0.3340 - accuracy: 0.8750 - val_loss: 0.2891 - val_accuracy: 1.0000\n",
      "Epoch 42/1000\n",
      "1/1 [==============================] - 1s 616ms/step - loss: 0.3895 - accuracy: 0.7857 - val_loss: 0.3165 - val_accuracy: 0.9375\n",
      "Epoch 43/1000\n",
      "1/1 [==============================] - 1s 618ms/step - loss: 0.3717 - accuracy: 0.8571 - val_loss: 0.3319 - val_accuracy: 0.9375\n",
      "Epoch 44/1000\n",
      "1/1 [==============================] - 1s 638ms/step - loss: 0.3317 - accuracy: 0.9062 - val_loss: 0.3199 - val_accuracy: 0.9375\n",
      "Epoch 45/1000\n",
      "1/1 [==============================] - 1s 650ms/step - loss: 0.3438 - accuracy: 0.8750 - val_loss: 0.3020 - val_accuracy: 0.9688\n",
      "Epoch 46/1000\n",
      "1/1 [==============================] - 1s 652ms/step - loss: 0.4173 - accuracy: 0.9062 - val_loss: 0.2941 - val_accuracy: 0.9375\n",
      "Epoch 47/1000\n",
      "1/1 [==============================] - 1s 591ms/step - loss: 0.3349 - accuracy: 0.8571 - val_loss: 0.2554 - val_accuracy: 0.9375\n",
      "Epoch 48/1000\n",
      "1/1 [==============================] - 1s 600ms/step - loss: 0.2966 - accuracy: 0.8929 - val_loss: 0.2513 - val_accuracy: 0.9688\n",
      "Epoch 49/1000\n",
      "1/1 [==============================] - 1s 598ms/step - loss: 0.3441 - accuracy: 0.8929 - val_loss: 0.2224 - val_accuracy: 1.0000\n",
      "Epoch 50/1000\n",
      "1/1 [==============================] - 1s 571ms/step - loss: 0.3870 - accuracy: 0.7500 - val_loss: 0.2851 - val_accuracy: 1.0000\n",
      "Epoch 51/1000\n",
      "1/1 [==============================] - 1s 572ms/step - loss: 0.3117 - accuracy: 0.8214 - val_loss: 0.2960 - val_accuracy: 0.9688\n",
      "Epoch 52/1000\n",
      "1/1 [==============================] - 1s 597ms/step - loss: 0.3882 - accuracy: 0.8125 - val_loss: 0.2617 - val_accuracy: 0.9688\n",
      "Epoch 53/1000\n",
      "1/1 [==============================] - 1s 590ms/step - loss: 0.3371 - accuracy: 0.8438 - val_loss: 0.2857 - val_accuracy: 0.9688\n",
      "Epoch 54/1000\n",
      "1/1 [==============================] - 1s 603ms/step - loss: 0.3557 - accuracy: 0.8438 - val_loss: 0.2660 - val_accuracy: 1.0000\n",
      "Epoch 55/1000\n",
      "1/1 [==============================] - 1s 617ms/step - loss: 0.3376 - accuracy: 0.8438 - val_loss: 0.2847 - val_accuracy: 0.9375\n",
      "Epoch 56/1000\n",
      "1/1 [==============================] - 1s 641ms/step - loss: 0.2642 - accuracy: 0.9062 - val_loss: 0.2473 - val_accuracy: 0.9688\n",
      "Epoch 57/1000\n",
      "1/1 [==============================] - 1s 580ms/step - loss: 0.3163 - accuracy: 0.8214 - val_loss: 0.2279 - val_accuracy: 0.9688\n",
      "Epoch 58/1000\n",
      "1/1 [==============================] - 1s 598ms/step - loss: 0.3950 - accuracy: 0.7812 - val_loss: 0.3051 - val_accuracy: 0.9375\n",
      "Epoch 59/1000\n",
      "1/1 [==============================] - 1s 587ms/step - loss: 0.2591 - accuracy: 0.9286 - val_loss: 0.2479 - val_accuracy: 0.9688\n",
      "Epoch 60/1000\n",
      "1/1 [==============================] - 1s 594ms/step - loss: 0.5009 - accuracy: 0.8438 - val_loss: 0.3071 - val_accuracy: 0.9375\n",
      "Epoch 61/1000\n",
      "1/1 [==============================] - 1s 682ms/step - loss: 0.2941 - accuracy: 0.8750 - val_loss: 0.2049 - val_accuracy: 1.0000\n",
      "Epoch 62/1000\n",
      "1/1 [==============================] - 1s 584ms/step - loss: 0.4206 - accuracy: 0.7857 - val_loss: 0.2904 - val_accuracy: 0.9062\n",
      "Epoch 63/1000\n",
      "1/1 [==============================] - 1s 617ms/step - loss: 0.3709 - accuracy: 0.8438 - val_loss: 0.2819 - val_accuracy: 0.9062\n",
      "Epoch 64/1000\n",
      "1/1 [==============================] - 1s 633ms/step - loss: 0.2530 - accuracy: 0.9643 - val_loss: 0.2701 - val_accuracy: 0.9375\n",
      "Epoch 65/1000\n",
      "1/1 [==============================] - 1s 624ms/step - loss: 0.3090 - accuracy: 0.9286 - val_loss: 0.3043 - val_accuracy: 0.9062\n",
      "Epoch 66/1000\n",
      "1/1 [==============================] - 1s 636ms/step - loss: 0.2759 - accuracy: 0.9375 - val_loss: 0.2797 - val_accuracy: 0.9062\n",
      "Epoch 67/1000\n",
      "1/1 [==============================] - 1s 631ms/step - loss: 0.3155 - accuracy: 0.8750 - val_loss: 0.3319 - val_accuracy: 0.8750\n",
      "Epoch 68/1000\n",
      "1/1 [==============================] - 1s 566ms/step - loss: 0.3909 - accuracy: 0.8571 - val_loss: 0.2988 - val_accuracy: 0.8750\n",
      "Epoch 69/1000\n",
      "1/1 [==============================] - 1s 642ms/step - loss: 0.2632 - accuracy: 0.9062 - val_loss: 0.2539 - val_accuracy: 0.9375\n",
      "Epoch 70/1000\n",
      "1/1 [==============================] - 1s 585ms/step - loss: 0.3226 - accuracy: 0.8214 - val_loss: 0.2415 - val_accuracy: 0.9375\n",
      "Epoch 71/1000\n",
      "1/1 [==============================] - 1s 584ms/step - loss: 0.3977 - accuracy: 0.8125 - val_loss: 0.2645 - val_accuracy: 0.9375\n",
      "Epoch 72/1000\n",
      "1/1 [==============================] - 1s 577ms/step - loss: 0.2470 - accuracy: 1.0000 - val_loss: 0.2862 - val_accuracy: 0.9062\n",
      "Epoch 73/1000\n",
      "1/1 [==============================] - 1s 580ms/step - loss: 0.2600 - accuracy: 0.8750 - val_loss: 0.3335 - val_accuracy: 0.8750\n",
      "Epoch 74/1000\n",
      "1/1 [==============================] - 1s 600ms/step - loss: 0.2336 - accuracy: 0.9062 - val_loss: 0.2567 - val_accuracy: 0.9375\n",
      "Epoch 75/1000\n",
      "1/1 [==============================] - 1s 572ms/step - loss: 0.2528 - accuracy: 0.9643 - val_loss: 0.2538 - val_accuracy: 0.9375\n",
      "Epoch 76/1000\n",
      "1/1 [==============================] - 1s 629ms/step - loss: 0.2742 - accuracy: 0.9062 - val_loss: 0.2970 - val_accuracy: 0.8750\n",
      "Epoch 77/1000\n",
      "1/1 [==============================] - 1s 638ms/step - loss: 0.2764 - accuracy: 0.9062 - val_loss: 0.3164 - val_accuracy: 0.8750\n",
      "Epoch 78/1000\n",
      "1/1 [==============================] - 1s 595ms/step - loss: 0.3575 - accuracy: 0.8214 - val_loss: 0.2628 - val_accuracy: 0.9062\n",
      "Epoch 79/1000\n",
      "1/1 [==============================] - 1s 635ms/step - loss: 0.3065 - accuracy: 0.8750 - val_loss: 0.2561 - val_accuracy: 0.9062\n",
      "Epoch 80/1000\n",
      "1/1 [==============================] - 1s 610ms/step - loss: 0.2334 - accuracy: 0.9375 - val_loss: 0.2493 - val_accuracy: 0.9062\n",
      "Epoch 81/1000\n",
      "1/1 [==============================] - 1s 644ms/step - loss: 0.3368 - accuracy: 0.8750 - val_loss: 0.3026 - val_accuracy: 0.8750\n",
      "Epoch 82/1000\n",
      "1/1 [==============================] - 1s 674ms/step - loss: 0.3788 - accuracy: 0.8571 - val_loss: 0.2105 - val_accuracy: 0.9688\n",
      "Epoch 83/1000\n",
      "1/1 [==============================] - 1s 585ms/step - loss: 0.3224 - accuracy: 0.8929 - val_loss: 0.3275 - val_accuracy: 0.8438\n",
      "Epoch 84/1000\n",
      "1/1 [==============================] - 1s 583ms/step - loss: 0.3035 - accuracy: 0.8929 - val_loss: 0.2429 - val_accuracy: 0.9062\n",
      "Epoch 85/1000\n",
      "1/1 [==============================] - 1s 573ms/step - loss: 0.2104 - accuracy: 0.9643 - val_loss: 0.1956 - val_accuracy: 0.9688\n",
      "Epoch 86/1000\n",
      "1/1 [==============================] - 1s 594ms/step - loss: 0.2328 - accuracy: 0.8929 - val_loss: 0.2536 - val_accuracy: 0.9062\n",
      "Epoch 87/1000\n",
      "1/1 [==============================] - 1s 608ms/step - loss: 0.4076 - accuracy: 0.8750 - val_loss: 0.3112 - val_accuracy: 0.8750\n",
      "Epoch 88/1000\n",
      "1/1 [==============================] - 1s 595ms/step - loss: 0.2670 - accuracy: 0.8929 - val_loss: 0.2767 - val_accuracy: 0.9062\n",
      "Epoch 89/1000\n",
      "1/1 [==============================] - 1s 592ms/step - loss: 0.3772 - accuracy: 0.8750 - val_loss: 0.3044 - val_accuracy: 0.8438\n",
      "Epoch 90/1000\n",
      "1/1 [==============================] - 1s 564ms/step - loss: 0.2775 - accuracy: 0.8571 - val_loss: 0.2830 - val_accuracy: 0.9062\n",
      "Epoch 91/1000\n",
      "1/1 [==============================] - 1s 606ms/step - loss: 0.3066 - accuracy: 0.8929 - val_loss: 0.2225 - val_accuracy: 0.9688\n",
      "Epoch 92/1000\n",
      "1/1 [==============================] - 1s 610ms/step - loss: 0.2559 - accuracy: 0.9062 - val_loss: 0.2434 - val_accuracy: 0.9375\n",
      "Epoch 93/1000\n",
      "1/1 [==============================] - 1s 588ms/step - loss: 0.3794 - accuracy: 0.8214 - val_loss: 0.2458 - val_accuracy: 0.9375\n",
      "Epoch 94/1000\n",
      "1/1 [==============================] - 1s 635ms/step - loss: 0.4106 - accuracy: 0.8571 - val_loss: 0.2539 - val_accuracy: 0.9375\n",
      "Epoch 95/1000\n",
      "1/1 [==============================] - 1s 620ms/step - loss: 0.3008 - accuracy: 0.9062 - val_loss: 0.2793 - val_accuracy: 0.9375\n",
      "Epoch 96/1000\n",
      "1/1 [==============================] - 1s 593ms/step - loss: 0.2187 - accuracy: 0.9643 - val_loss: 0.2207 - val_accuracy: 0.9375\n",
      "Epoch 97/1000\n",
      "1/1 [==============================] - 1s 618ms/step - loss: 0.2056 - accuracy: 0.9688 - val_loss: 0.2908 - val_accuracy: 0.8750\n",
      "Epoch 98/1000\n",
      "1/1 [==============================] - 1s 622ms/step - loss: 0.2737 - accuracy: 0.9062 - val_loss: 0.3007 - val_accuracy: 0.9062\n",
      "Epoch 99/1000\n",
      "1/1 [==============================] - 1s 612ms/step - loss: 0.2565 - accuracy: 0.9375 - val_loss: 0.2250 - val_accuracy: 0.9375\n",
      "Epoch 100/1000\n",
      "1/1 [==============================] - 1s 572ms/step - loss: 0.3348 - accuracy: 0.8929 - val_loss: 0.3531 - val_accuracy: 0.8750\n",
      "Epoch 101/1000\n",
      "1/1 [==============================] - 1s 590ms/step - loss: 0.3532 - accuracy: 0.7857 - val_loss: 0.3466 - val_accuracy: 0.8125\n",
      "Epoch 102/1000\n",
      "1/1 [==============================] - 1s 612ms/step - loss: 0.1604 - accuracy: 1.0000 - val_loss: 0.3151 - val_accuracy: 0.8750\n",
      "Epoch 103/1000\n",
      "1/1 [==============================] - 1s 634ms/step - loss: 0.3062 - accuracy: 0.8125 - val_loss: 0.3652 - val_accuracy: 0.8438\n",
      "Epoch 104/1000\n",
      "1/1 [==============================] - 1s 607ms/step - loss: 0.2718 - accuracy: 0.8929 - val_loss: 0.2581 - val_accuracy: 0.9375\n",
      "Epoch 105/1000\n",
      "1/1 [==============================] - 1s 618ms/step - loss: 0.3764 - accuracy: 0.8571 - val_loss: 0.3646 - val_accuracy: 0.8750\n",
      "Epoch 106/1000\n",
      "1/1 [==============================] - 1s 595ms/step - loss: 0.3644 - accuracy: 0.8214 - val_loss: 0.2998 - val_accuracy: 0.8750\n",
      "Epoch 107/1000\n",
      "1/1 [==============================] - 1s 636ms/step - loss: 0.3241 - accuracy: 0.9375 - val_loss: 0.2751 - val_accuracy: 0.9688\n",
      "Epoch 108/1000\n",
      "1/1 [==============================] - 1s 650ms/step - loss: 0.3011 - accuracy: 0.8750 - val_loss: 0.2751 - val_accuracy: 0.9375\n",
      "Epoch 109/1000\n",
      "1/1 [==============================] - 1s 632ms/step - loss: 0.2725 - accuracy: 0.9062 - val_loss: 0.3115 - val_accuracy: 0.8438\n",
      "Epoch 110/1000\n",
      "1/1 [==============================] - 1s 607ms/step - loss: 0.3958 - accuracy: 0.8438 - val_loss: 0.3017 - val_accuracy: 0.9062\n",
      "Epoch 111/1000\n",
      "1/1 [==============================] - 1s 569ms/step - loss: 0.3130 - accuracy: 0.8929 - val_loss: 0.2482 - val_accuracy: 0.9062\n",
      "Epoch 112/1000\n",
      "1/1 [==============================] - 1s 633ms/step - loss: 0.2534 - accuracy: 0.9062 - val_loss: 0.2414 - val_accuracy: 0.9375\n",
      "Epoch 113/1000\n",
      "1/1 [==============================] - 1s 624ms/step - loss: 0.3122 - accuracy: 0.8438 - val_loss: 0.3555 - val_accuracy: 0.8438\n",
      "Epoch 114/1000\n",
      "1/1 [==============================] - 1s 629ms/step - loss: 0.3702 - accuracy: 0.7812 - val_loss: 0.2354 - val_accuracy: 0.9062\n",
      "Epoch 115/1000\n",
      "1/1 [==============================] - 1s 565ms/step - loss: 0.2212 - accuracy: 0.8929 - val_loss: 0.3090 - val_accuracy: 0.8750\n",
      "Epoch 116/1000\n",
      "1/1 [==============================] - 1s 584ms/step - loss: 0.2064 - accuracy: 0.9643 - val_loss: 0.2120 - val_accuracy: 0.9375\n",
      "Epoch 117/1000\n",
      "1/1 [==============================] - 1s 615ms/step - loss: 0.2412 - accuracy: 0.9375 - val_loss: 0.2253 - val_accuracy: 0.9688\n",
      "Epoch 118/1000\n",
      "1/1 [==============================] - 1s 574ms/step - loss: 0.2196 - accuracy: 0.8929 - val_loss: 0.3080 - val_accuracy: 0.8750\n",
      "Epoch 119/1000\n",
      "1/1 [==============================] - 1s 614ms/step - loss: 0.3113 - accuracy: 0.8125 - val_loss: 0.3317 - val_accuracy: 0.8438\n",
      "Epoch 120/1000\n",
      "1/1 [==============================] - 1s 626ms/step - loss: 0.3643 - accuracy: 0.8438 - val_loss: 0.3315 - val_accuracy: 0.8750\n",
      "Epoch 121/1000\n",
      "1/1 [==============================] - 1s 576ms/step - loss: 0.4495 - accuracy: 0.8214 - val_loss: 0.2790 - val_accuracy: 0.9062\n",
      "Epoch 122/1000\n",
      "1/1 [==============================] - 1s 597ms/step - loss: 0.1637 - accuracy: 1.0000 - val_loss: 0.2822 - val_accuracy: 0.9062\n",
      "Epoch 123/1000\n",
      "1/1 [==============================] - 1s 609ms/step - loss: 0.3029 - accuracy: 0.9286 - val_loss: 0.2819 - val_accuracy: 0.9062\n",
      "Epoch 124/1000\n",
      "1/1 [==============================] - 1s 614ms/step - loss: 0.1631 - accuracy: 1.0000 - val_loss: 0.2798 - val_accuracy: 0.9375\n",
      "Epoch 125/1000\n",
      "1/1 [==============================] - 1s 652ms/step - loss: 0.2866 - accuracy: 0.8750 - val_loss: 0.2933 - val_accuracy: 0.8750\n",
      "Epoch 126/1000\n",
      "1/1 [==============================] - 1s 619ms/step - loss: 0.4110 - accuracy: 0.8125 - val_loss: 0.3301 - val_accuracy: 0.8750\n",
      "Epoch 127/1000\n",
      "1/1 [==============================] - 1s 600ms/step - loss: 0.3862 - accuracy: 0.8929 - val_loss: 0.3329 - val_accuracy: 0.8750\n",
      "Epoch 128/1000\n",
      "1/1 [==============================] - 1s 609ms/step - loss: 0.4157 - accuracy: 0.8214 - val_loss: 0.2681 - val_accuracy: 0.9375\n",
      "Epoch 129/1000\n",
      "1/1 [==============================] - 1s 619ms/step - loss: 0.2734 - accuracy: 0.9286 - val_loss: 0.3642 - val_accuracy: 0.8750\n",
      "Epoch 130/1000\n",
      "1/1 [==============================] - 1s 589ms/step - loss: 0.2617 - accuracy: 0.8929 - val_loss: 0.2494 - val_accuracy: 0.9375\n",
      "Epoch 131/1000\n",
      "1/1 [==============================] - 1s 612ms/step - loss: 0.2508 - accuracy: 0.9375 - val_loss: 0.2462 - val_accuracy: 0.9375\n",
      "Epoch 132/1000\n",
      "1/1 [==============================] - 1s 581ms/step - loss: 0.2526 - accuracy: 0.9286 - val_loss: 0.3518 - val_accuracy: 0.8750\n",
      "Epoch 133/1000\n",
      "1/1 [==============================] - 1s 570ms/step - loss: 0.1792 - accuracy: 0.9643 - val_loss: 0.2294 - val_accuracy: 0.9062\n",
      "Epoch 134/1000\n",
      "1/1 [==============================] - 1s 574ms/step - loss: 0.3615 - accuracy: 0.7857 - val_loss: 0.3226 - val_accuracy: 0.9062\n",
      "Epoch 135/1000\n",
      "1/1 [==============================] - 1s 628ms/step - loss: 0.2279 - accuracy: 0.9375 - val_loss: 0.2841 - val_accuracy: 0.9375\n",
      "Epoch 00135: early stopping\n"
     ]
    },
    {
     "data": {
      "text/plain": [
       "<tensorflow.python.keras.callbacks.History at 0x7f538f8028d0>"
      ]
     },
     "execution_count": 8,
     "metadata": {},
     "output_type": "execute_result"
    }
   ],
   "source": [
    "model.fit_generator(\n",
    "    X_train,\n",
    "    steps_per_epoch=X_train.samples//X_train.batch_size,\n",
    "    epochs=1000,\n",
    "    callbacks=cd,\n",
    "    validation_data=X_test,\n",
    "    validation_steps=X_test.samples//X_test.batch_size)"
   ]
  },
  {
   "cell_type": "code",
   "execution_count": 9,
   "id": "55ccacb2",
   "metadata": {
    "execution": {
     "iopub.execute_input": "2021-09-18T14:57:13.843295Z",
     "iopub.status.busy": "2021-09-18T14:57:13.842514Z",
     "iopub.status.idle": "2021-09-18T14:57:14.210108Z",
     "shell.execute_reply": "2021-09-18T14:57:14.209212Z",
     "shell.execute_reply.started": "2021-09-18T14:52:59.435422Z"
    },
    "papermill": {
     "duration": 0.544051,
     "end_time": "2021-09-18T14:57:14.210376",
     "exception": false,
     "start_time": "2021-09-18T14:57:13.666325",
     "status": "completed"
    },
    "tags": []
   },
   "outputs": [],
   "source": [
    "model.save(\"teeth_model.h5\")"
   ]
  },
  {
   "cell_type": "code",
   "execution_count": 10,
   "id": "84925007",
   "metadata": {
    "execution": {
     "iopub.execute_input": "2021-09-18T14:57:14.600234Z",
     "iopub.status.busy": "2021-09-18T14:57:14.595198Z",
     "iopub.status.idle": "2021-09-18T14:57:14.928889Z",
     "shell.execute_reply": "2021-09-18T14:57:14.928311Z",
     "shell.execute_reply.started": "2021-09-18T14:52:59.833630Z"
    },
    "papermill": {
     "duration": 0.535639,
     "end_time": "2021-09-18T14:57:14.929043",
     "exception": false,
     "start_time": "2021-09-18T14:57:14.393404",
     "status": "completed"
    },
    "tags": []
   },
   "outputs": [
    {
     "name": "stdout",
     "output_type": "stream",
     "text": [
      "Saved model to disk\n"
     ]
    }
   ],
   "source": [
    "model_json = model.to_json()\n",
    "with open(\"model.json\", \"w\") as json_file:\n",
    "    json_file.write(model_json)\n",
    "model.save_weights(\"model.h5\")\n",
    "print(\"Saved model to disk\")"
   ]
  },
  {
   "cell_type": "code",
   "execution_count": 11,
   "id": "c3d9328a",
   "metadata": {
    "execution": {
     "iopub.execute_input": "2021-09-18T14:57:15.233532Z",
     "iopub.status.busy": "2021-09-18T14:57:15.232870Z",
     "iopub.status.idle": "2021-09-18T14:57:15.238239Z",
     "shell.execute_reply": "2021-09-18T14:57:15.238759Z",
     "shell.execute_reply.started": "2021-09-18T14:53:00.212630Z"
    },
    "papermill": {
     "duration": 0.159226,
     "end_time": "2021-09-18T14:57:15.238960",
     "exception": false,
     "start_time": "2021-09-18T14:57:15.079734",
     "status": "completed"
    },
    "tags": []
   },
   "outputs": [],
   "source": [
    "from PIL import Image\n",
    "import numpy as np\n",
    "from skimage import transform\n",
    "import matplotlib.pyplot as plt\n",
    "\n",
    "def load(filename):\n",
    "   np_image = Image.open(filename)\n",
    "   np_image = np.array(np_image).astype('float32')/255\n",
    "   np_image = transform.resize(np_image, (64, 64, 3))\n",
    "   np_image = np.expand_dims(np_image, axis=0)\n",
    "   return np_image"
   ]
  },
  {
   "cell_type": "code",
   "execution_count": 12,
   "id": "0ce1f07a",
   "metadata": {
    "execution": {
     "iopub.execute_input": "2021-09-18T14:57:15.542693Z",
     "iopub.status.busy": "2021-09-18T14:57:15.541995Z",
     "iopub.status.idle": "2021-09-18T14:57:15.563378Z",
     "shell.execute_reply": "2021-09-18T14:57:15.562857Z",
     "shell.execute_reply.started": "2021-09-18T14:53:00.219717Z"
    },
    "papermill": {
     "duration": 0.177091,
     "end_time": "2021-09-18T14:57:15.563526",
     "exception": false,
     "start_time": "2021-09-18T14:57:15.386435",
     "status": "completed"
    },
    "tags": []
   },
   "outputs": [
    {
     "data": {
      "image/png": "[encoded data removed]",
      "text/plain": [
       "<PIL.JpegImagePlugin.JpegImageFile image mode=RGB size=170x138 at 0x7F536C9FFBD0>"
      ]
     },
     "execution_count": 12,
     "metadata": {},
     "output_type": "execute_result"
    }
   ],
   "source": [
    "Image.open('../input/teeth-dataset/teeth_dataset/teeth_dataset/test/caries/wc1.jpg')"
   ]
  },
  {
   "cell_type": "code",
   "execution_count": 13,
   "id": "da183926",
   "metadata": {
    "execution": {
     "iopub.execute_input": "2021-09-18T14:57:15.874668Z",
     "iopub.status.busy": "2021-09-18T14:57:15.873436Z",
     "iopub.status.idle": "2021-09-18T14:57:15.876693Z",
     "shell.execute_reply": "2021-09-18T14:57:15.876143Z",
     "shell.execute_reply.started": "2021-09-18T14:53:00.257935Z"
    },
    "papermill": {
     "duration": 0.163654,
     "end_time": "2021-09-18T14:57:15.876864",
     "exception": false,
     "start_time": "2021-09-18T14:57:15.713210",
     "status": "completed"
    },
    "tags": []
   },
   "outputs": [],
   "source": [
    "def prediction(result):\n",
    "    if result == 0:\n",
    "        prediction = \"Bad\"\n",
    "    elif result == 1:\n",
    "        prediction = \"Good\"\n",
    "    else:\n",
    "        prediction = result\n",
    "    return prediction\n",
    "\n",
    "def total(filename):\n",
    "  image = load(filename)\n",
    "  pred = model.predict(image)\n",
    "  result = np.argmax(pred, axis=1)\n",
    "  return prediction(result)"
   ]
  },
  {
   "cell_type": "code",
   "execution_count": 14,
   "id": "f0add9be",
   "metadata": {
    "execution": {
     "iopub.execute_input": "2021-09-18T14:57:16.186981Z",
     "iopub.status.busy": "2021-09-18T14:57:16.186305Z",
     "iopub.status.idle": "2021-09-18T14:57:18.218433Z",
     "shell.execute_reply": "2021-09-18T14:57:18.219071Z",
     "shell.execute_reply.started": "2021-09-18T14:54:03.236732Z"
    },
    "papermill": {
     "duration": 2.190834,
     "end_time": "2021-09-18T14:57:18.219305",
     "exception": false,
     "start_time": "2021-09-18T14:57:16.028471",
     "status": "completed"
    },
    "tags": []
   },
   "outputs": [
    {
     "name": "stdout",
     "output_type": "stream",
     "text": [
      "Bad\n"
     ]
    }
   ],
   "source": [
    "print(total('../input/teeth-dataset/teeth_dataset/teeth_dataset/test/caries/wc1.jpg'))"
   ]
  }
 ],
 "metadata": {
  "kernelspec": {
   "display_name": "Python 3",
   "language": "python",
   "name": "python3"
  },
  "language_info": {
   "codemirror_mode": {
    "name": "ipython",
    "version": 3
   },
   "file_extension": ".py",
   "mimetype": "text/x-python",
   "name": "python",
   "nbconvert_exporter": "python",
   "pygments_lexer": "ipython3",
   "version": "3.7.10"
  },
  "papermill": {
   "default_parameters": {},
   "duration": 153.893683,
   "end_time": "2021-09-18T14:57:21.847758",
   "environment_variables": {},
   "exception": null,
   "input_path": "__notebook__.ipynb",
   "output_path": "__notebook__.ipynb",
   "parameters": {},
   "start_time": "2021-09-18T14:54:47.954075",
   "version": "2.3.3"
  }
 },
 "nbformat": 4,
 "nbformat_minor": 5
}
